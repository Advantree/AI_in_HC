{
 "cells": [
  {
   "attachments": {},
   "cell_type": "markdown",
   "metadata": {},
   "source": [
    "Exercise 1: Project 1: Gait in Parkinson’s disease"
   ]
  },
  {
   "attachments": {},
   "cell_type": "markdown",
   "metadata": {},
   "source": [
    "1. We saw the different types of research questions in the lecture. Formulate a research\n",
    "question for the available dataset. What type of research question is it?"
   ]
  },
  {
   "attachments": {},
   "cell_type": "markdown",
   "metadata": {},
   "source": [
    "2. Load the file demographics.txt. This file contains information about the patients /\n",
    "subjects. Text files (.txt) can be loaded using read.table() in R and open() in Python."
   ]
  },
  {
   "attachments": {},
   "cell_type": "markdown",
   "metadata": {},
   "source": [
    "3. How many features are there? What’s the dimensionality of the dataset?"
   ]
  },
  {
   "attachments": {},
   "cell_type": "markdown",
   "metadata": {},
   "source": [
    "4. What are the types of the different features? (numerical / categorical)"
   ]
  },
  {
   "attachments": {},
   "cell_type": "markdown",
   "metadata": {},
   "source": [
    "5. Give a summary (min, max, mean, etc.) of the dataset and plot the distributions of the\n",
    "existing features. Are there any outliers in any of the features?"
   ]
  },
  {
   "attachments": {},
   "cell_type": "markdown",
   "metadata": {},
   "source": [
    "6. Are there any missing values? Note that the missing values in the dataset are\n",
    "represented by NaN. In R, for instance, they should be represented as NA."
   ]
  },
  {
   "attachments": {},
   "cell_type": "markdown",
   "metadata": {},
   "source": [
    "7. What type of missing values, if any? (optional)"
   ]
  },
  {
   "attachments": {},
   "cell_type": "markdown",
   "metadata": {},
   "source": [
    "8. Perform data imputation of missing values (if any) using:\n",
    "    a. The mean of the features\n",
    "    b. kNN or another approach of your choice\n",
    "In Python, imputation can be performed using the Impyute library. Two common packages\n",
    "used in R to impute missing values is MICE and missForest."
   ]
  },
  {
   "attachments": {},
   "cell_type": "markdown",
   "metadata": {},
   "source": [
    "9. What types of transformations would you recommend for this dataset? Why?"
   ]
  },
  {
   "attachments": {},
   "cell_type": "markdown",
   "metadata": {},
   "source": [
    "10. Load the gait signals contained in the .txt files (Pt: patient, Co: healthy controls). Plot\n",
    "an example."
   ]
  },
  {
   "attachments": {},
   "cell_type": "markdown",
   "metadata": {},
   "source": [
    "11. What types of features can you extract from the signals, and can be useful for the task\n",
    "at hand?"
   ]
  },
  {
   "attachments": {},
   "cell_type": "markdown",
   "metadata": {},
   "source": []
  },
  {
   "attachments": {},
   "cell_type": "markdown",
   "metadata": {},
   "source": []
  },
  {
   "attachments": {},
   "cell_type": "markdown",
   "metadata": {},
   "source": []
  },
  {
   "cell_type": "code",
   "execution_count": null,
   "metadata": {},
   "outputs": [],
   "source": []
  }
 ],
 "metadata": {
  "language_info": {
   "name": "python"
  },
  "orig_nbformat": 4
 },
 "nbformat": 4,
 "nbformat_minor": 2
}
